{
  "nbformat": 4,
  "nbformat_minor": 0,
  "metadata": {
    "colab": {
      "provenance": [],
      "authorship_tag": "ABX9TyNHNhYi0SOSDFMNHLp1pMsx",
      "include_colab_link": true
    },
    "kernelspec": {
      "name": "python3",
      "display_name": "Python 3"
    },
    "language_info": {
      "name": "python"
    }
  },
  "cells": [
    {
      "cell_type": "markdown",
      "metadata": {
        "id": "view-in-github",
        "colab_type": "text"
      },
      "source": [
        "<a href=\"https://colab.research.google.com/github/Abbujaa/python100days/blob/main/conditional_statements.ipynb\" target=\"_parent\"><img src=\"https://colab.research.google.com/assets/colab-badge.svg\" alt=\"Open In Colab\"/></a>"
      ]
    },
    {
      "cell_type": "markdown",
      "source": [
        "# problem statement\n",
        "\n",
        "You are writing the code for a machine that\n",
        "validates whether or not a person is eligible to\n",
        "vote. You take the parsons age and if he is older\n",
        "than 18 he can vote otherwise he cant. print this\n",
        "text to the person"
      ],
      "metadata": {
        "id": "QdFjE9vQX88b"
      }
    },
    {
      "cell_type": "code",
      "execution_count": 2,
      "metadata": {
        "colab": {
          "base_uri": "https://localhost:8080/"
        },
        "id": "BH7TJm1HXtXJ",
        "outputId": "5ef21070-9b86-4561-903b-979d7a733e27"
      },
      "outputs": [
        {
          "name": "stdout",
          "output_type": "stream",
          "text": [
            "enter your age: 17\n"
          ]
        }
      ],
      "source": [
        "age = input(\"enter your age: \")\n",
        "age = int(age)"
      ]
    },
    {
      "cell_type": "code",
      "source": [
        "can_vote = age >= 18\n",
        "print(can_vote)"
      ],
      "metadata": {
        "colab": {
          "base_uri": "https://localhost:8080/"
        },
        "id": "7wZWFxoEYUP_",
        "outputId": "e920ee47-3004-4110-c20a-1b0dcdc8f4bd"
      },
      "execution_count": 3,
      "outputs": [
        {
          "output_type": "stream",
          "name": "stdout",
          "text": [
            "False\n"
          ]
        }
      ]
    },
    {
      "cell_type": "markdown",
      "source": [
        "With a new law passed the machine is now\n",
        "forced to print \"You are eligible to vote\" and ask\n",
        "it for the president to vote when age >= 18\n",
        "Otherwise it doesn't need to do anything"
      ],
      "metadata": {
        "id": "GHh5SBVeZFIJ"
      }
    },
    {
      "cell_type": "code",
      "source": [
        "age = input(\"enter your age: \")\n",
        "age = int(age)\n",
        "\n",
        "if age < 0:\n",
        "  print(\"Invalid age\")\n",
        "\n",
        "else:\n",
        "  if age >= 18 :\n",
        "    print(\"You are eligible to vote\")\n",
        "  president_selection = \"\"\"Select the president You want:\\n\n",
        "  Joe Biden - 1\\n\n",
        "  Obama - 2\\n\n",
        "  Narendara Modi - 3\\n\n",
        "  Tejas - 4\\n option:\"\"\"\n",
        "\n",
        "  if can_vote:\n",
        "    print(\"You are eligible to vote\")\n",
        "    president_voted = input(president_selection)\n",
        "    print(f\"You voted for {president_voted}\")\n",
        "  else:\n",
        "    print(f\"You cant vote for another {18 - age} years\")"
      ],
      "metadata": {
        "colab": {
          "base_uri": "https://localhost:8080/"
        },
        "id": "zX40D_7IbnxB",
        "outputId": "219be50b-730d-428f-d6fe-c670d6816182"
      },
      "execution_count": 8,
      "outputs": [
        {
          "output_type": "stream",
          "name": "stdout",
          "text": [
            "enter your age: 1\n",
            "You cant vote for another 17 years\n"
          ]
        }
      ]
    },
    {
      "cell_type": "code",
      "source": [],
      "metadata": {
        "id": "f9eJrKxJcr8a"
      },
      "execution_count": null,
      "outputs": []
    }
  ]
}
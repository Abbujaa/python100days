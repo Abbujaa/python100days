{
  "nbformat": 4,
  "nbformat_minor": 0,
  "metadata": {
    "colab": {
      "provenance": [],
      "authorship_tag": "ABX9TyMy30i1H5hJfk3Ab+YDsHFE",
      "include_colab_link": true
    },
    "kernelspec": {
      "name": "python3",
      "display_name": "Python 3"
    },
    "language_info": {
      "name": "python"
    }
  },
  "cells": [
    {
      "cell_type": "markdown",
      "metadata": {
        "id": "view-in-github",
        "colab_type": "text"
      },
      "source": [
        "<a href=\"https://colab.research.google.com/github/Abbujaa/python100days/blob/main/dictionaires.ipynb\" target=\"_parent\"><img src=\"https://colab.research.google.com/assets/colab-badge.svg\" alt=\"Open In Colab\"/></a>"
      ]
    },
    {
      "cell_type": "code",
      "execution_count": 10,
      "metadata": {
        "id": "hAEsE8Dbpe8e"
      },
      "outputs": [],
      "source": [
        "phonebook = {\n",
        "    \"Tejas\": 123456,\n",
        "    \"Ayush\": 143456,\n",
        "    \"Abdul\": 128456,\n",
        "}"
      ]
    },
    {
      "cell_type": "code",
      "source": [
        "emty = {}\n"
      ],
      "metadata": {
        "id": "Zi3GWeNwp3H1"
      },
      "execution_count": 1,
      "outputs": []
    },
    {
      "cell_type": "code",
      "source": [
        "type(emty)"
      ],
      "metadata": {
        "colab": {
          "base_uri": "https://localhost:8080/"
        },
        "id": "oP1iTsgbq4Dg",
        "outputId": "dd323db5-8252-4847-fdf4-5c5d367c0e62"
      },
      "execution_count": 2,
      "outputs": [
        {
          "output_type": "execute_result",
          "data": {
            "text/plain": [
              "dict"
            ]
          },
          "metadata": {},
          "execution_count": 2
        }
      ]
    },
    {
      "cell_type": "code",
      "source": [
        "dict()"
      ],
      "metadata": {
        "colab": {
          "base_uri": "https://localhost:8080/"
        },
        "id": "vlsZHlW7q6Wk",
        "outputId": "08780ebe-46bd-4502-d882-506beeeb1e1f"
      },
      "execution_count": 3,
      "outputs": [
        {
          "output_type": "execute_result",
          "data": {
            "text/plain": [
              "{}"
            ]
          },
          "metadata": {},
          "execution_count": 3
        }
      ]
    },
    {
      "cell_type": "code",
      "source": [
        "dir(phonebook)"
      ],
      "metadata": {
        "colab": {
          "base_uri": "https://localhost:8080/"
        },
        "id": "I1--3zxXq7Hu",
        "outputId": "f065248e-1ca2-4225-96e7-9704d9e92ee3"
      },
      "execution_count": 5,
      "outputs": [
        {
          "output_type": "execute_result",
          "data": {
            "text/plain": [
              "['__class__',\n",
              " '__class_getitem__',\n",
              " '__contains__',\n",
              " '__delattr__',\n",
              " '__delitem__',\n",
              " '__dir__',\n",
              " '__doc__',\n",
              " '__eq__',\n",
              " '__format__',\n",
              " '__ge__',\n",
              " '__getattribute__',\n",
              " '__getitem__',\n",
              " '__gt__',\n",
              " '__hash__',\n",
              " '__init__',\n",
              " '__init_subclass__',\n",
              " '__ior__',\n",
              " '__iter__',\n",
              " '__le__',\n",
              " '__len__',\n",
              " '__lt__',\n",
              " '__ne__',\n",
              " '__new__',\n",
              " '__or__',\n",
              " '__reduce__',\n",
              " '__reduce_ex__',\n",
              " '__repr__',\n",
              " '__reversed__',\n",
              " '__ror__',\n",
              " '__setattr__',\n",
              " '__setitem__',\n",
              " '__sizeof__',\n",
              " '__str__',\n",
              " '__subclasshook__',\n",
              " 'clear',\n",
              " 'copy',\n",
              " 'fromkeys',\n",
              " 'get',\n",
              " 'items',\n",
              " 'keys',\n",
              " 'pop',\n",
              " 'popitem',\n",
              " 'setdefault',\n",
              " 'update',\n",
              " 'values']"
            ]
          },
          "metadata": {},
          "execution_count": 5
        }
      ]
    },
    {
      "cell_type": "code",
      "source": [
        "len(phonebook)"
      ],
      "metadata": {
        "colab": {
          "base_uri": "https://localhost:8080/"
        },
        "id": "S6K2y1POrMqG",
        "outputId": "e3ffecf0-ee9b-4d1e-9233-8c8beef7afd9"
      },
      "execution_count": 11,
      "outputs": [
        {
          "output_type": "execute_result",
          "data": {
            "text/plain": [
              "3"
            ]
          },
          "metadata": {},
          "execution_count": 11
        }
      ]
    },
    {
      "cell_type": "code",
      "source": [
        "x = phonebook"
      ],
      "metadata": {
        "id": "Aqy_AZo4rPSF"
      },
      "execution_count": 12,
      "outputs": []
    },
    {
      "cell_type": "code",
      "source": [
        "x[\"Tejas\"]"
      ],
      "metadata": {
        "colab": {
          "base_uri": "https://localhost:8080/"
        },
        "id": "7HdxPaYrrQXx",
        "outputId": "943039aa-a877-4917-c697-af8befde62fc"
      },
      "execution_count": 13,
      "outputs": [
        {
          "output_type": "execute_result",
          "data": {
            "text/plain": [
              "123456"
            ]
          },
          "metadata": {},
          "execution_count": 13
        }
      ]
    },
    {
      "cell_type": "code",
      "source": [
        "x[\"Ayush\"]"
      ],
      "metadata": {
        "colab": {
          "base_uri": "https://localhost:8080/"
        },
        "id": "DV7WKXYArSUI",
        "outputId": "7d25c388-1132-4a86-e195-9ec45439ceb8"
      },
      "execution_count": 14,
      "outputs": [
        {
          "output_type": "execute_result",
          "data": {
            "text/plain": [
              "143456"
            ]
          },
          "metadata": {},
          "execution_count": 14
        }
      ]
    },
    {
      "cell_type": "code",
      "source": [
        "x[\"Tejas\"] = 987079"
      ],
      "metadata": {
        "id": "hdPjSv1xrgcA"
      },
      "execution_count": 15,
      "outputs": []
    },
    {
      "cell_type": "code",
      "source": [
        "x\n"
      ],
      "metadata": {
        "colab": {
          "base_uri": "https://localhost:8080/"
        },
        "id": "KvjIqOl6rvcS",
        "outputId": "19979768-dd1a-4b3b-d86e-5ae7b126a400"
      },
      "execution_count": 16,
      "outputs": [
        {
          "output_type": "execute_result",
          "data": {
            "text/plain": [
              "{'Tejas': 987079, 'Ayush': 143456, 'Abdul': 128456}"
            ]
          },
          "metadata": {},
          "execution_count": 16
        }
      ]
    },
    {
      "cell_type": "code",
      "source": [
        "y = {\n",
        "    1 : \"x\",\n",
        "    1.2:\"x\",\n",
        "    \"string\": \"x\",\n",
        "    True: \"x\",\n",
        "    False: \"x\",\n",
        "    (\"Check\",\"check\"): \"x\"\n",
        "}"
      ],
      "metadata": {
        "id": "pP4R_GQWspyJ"
      },
      "execution_count": 17,
      "outputs": []
    },
    {
      "cell_type": "code",
      "source": [
        "y[1]"
      ],
      "metadata": {
        "colab": {
          "base_uri": "https://localhost:8080/",
          "height": 35
        },
        "id": "CH5lEVTivbtX",
        "outputId": "2a51e940-5003-49a9-80d1-834d1e815a12"
      },
      "execution_count": 18,
      "outputs": [
        {
          "output_type": "execute_result",
          "data": {
            "text/plain": [
              "'x'"
            ],
            "application/vnd.google.colaboratory.intrinsic+json": {
              "type": "string"
            }
          },
          "metadata": {},
          "execution_count": 18
        }
      ]
    },
    {
      "cell_type": "code",
      "source": [
        "y[1.2]"
      ],
      "metadata": {
        "colab": {
          "base_uri": "https://localhost:8080/",
          "height": 35
        },
        "id": "rykWKolgvfIx",
        "outputId": "37119089-a449-4af2-8fc5-e3e9387a8744"
      },
      "execution_count": 19,
      "outputs": [
        {
          "output_type": "execute_result",
          "data": {
            "text/plain": [
              "'x'"
            ],
            "application/vnd.google.colaboratory.intrinsic+json": {
              "type": "string"
            }
          },
          "metadata": {},
          "execution_count": 19
        }
      ]
    },
    {
      "cell_type": "code",
      "source": [
        "y[\"string\"]"
      ],
      "metadata": {
        "colab": {
          "base_uri": "https://localhost:8080/",
          "height": 35
        },
        "id": "T1yi7op7vgWj",
        "outputId": "4c0e713e-c1df-4f13-8979-ae081a99df2b"
      },
      "execution_count": 21,
      "outputs": [
        {
          "output_type": "execute_result",
          "data": {
            "text/plain": [
              "'x'"
            ],
            "application/vnd.google.colaboratory.intrinsic+json": {
              "type": "string"
            }
          },
          "metadata": {},
          "execution_count": 21
        }
      ]
    },
    {
      "cell_type": "code",
      "source": [
        "y[True]"
      ],
      "metadata": {
        "colab": {
          "base_uri": "https://localhost:8080/",
          "height": 35
        },
        "id": "y01U7MTWvi5N",
        "outputId": "87cfb0b9-8bb2-4425-b97b-74131b293060"
      },
      "execution_count": 22,
      "outputs": [
        {
          "output_type": "execute_result",
          "data": {
            "text/plain": [
              "'x'"
            ],
            "application/vnd.google.colaboratory.intrinsic+json": {
              "type": "string"
            }
          },
          "metadata": {},
          "execution_count": 22
        }
      ]
    },
    {
      "cell_type": "code",
      "source": [
        "y[False]"
      ],
      "metadata": {
        "colab": {
          "base_uri": "https://localhost:8080/",
          "height": 35
        },
        "id": "M-HB-x_SvzW4",
        "outputId": "270f49b2-aa90-48b0-8b54-6dac77bad464"
      },
      "execution_count": 23,
      "outputs": [
        {
          "output_type": "execute_result",
          "data": {
            "text/plain": [
              "'x'"
            ],
            "application/vnd.google.colaboratory.intrinsic+json": {
              "type": "string"
            }
          },
          "metadata": {},
          "execution_count": 23
        }
      ]
    },
    {
      "cell_type": "code",
      "source": [
        "y[(\"Check\",\"check\")]"
      ],
      "metadata": {
        "colab": {
          "base_uri": "https://localhost:8080/",
          "height": 35
        },
        "id": "ljwsN4sBv0kD",
        "outputId": "5b30611d-cbdd-4b5b-9dc9-7501ebcc4dd7"
      },
      "execution_count": 24,
      "outputs": [
        {
          "output_type": "execute_result",
          "data": {
            "text/plain": [
              "'x'"
            ],
            "application/vnd.google.colaboratory.intrinsic+json": {
              "type": "string"
            }
          },
          "metadata": {},
          "execution_count": 24
        }
      ]
    },
    {
      "cell_type": "code",
      "source": [
        "print(x.get(\"True\"))"
      ],
      "metadata": {
        "colab": {
          "base_uri": "https://localhost:8080/"
        },
        "id": "i7T-CHbxv_LD",
        "outputId": "17a08440-3d87-458d-e46c-e1f7c0bcbefd"
      },
      "execution_count": 25,
      "outputs": [
        {
          "output_type": "stream",
          "name": "stdout",
          "text": [
            "None\n"
          ]
        }
      ]
    },
    {
      "cell_type": "code",
      "source": [
        "print (y)\n",
        "y.clear()\n",
        "print(y)"
      ],
      "metadata": {
        "colab": {
          "base_uri": "https://localhost:8080/"
        },
        "id": "GqBLoLj-wGBY",
        "outputId": "24e3c7a0-0a80-418f-ce9f-04e4c5126f25"
      },
      "execution_count": 27,
      "outputs": [
        {
          "output_type": "stream",
          "name": "stdout",
          "text": [
            "{1: 'x', 1.2: 'x', 'string': 'x', False: 'x', ('Check', 'check'): 'x'}\n",
            "{}\n"
          ]
        }
      ]
    },
    {
      "cell_type": "code",
      "source": [
        "x.keys()"
      ],
      "metadata": {
        "colab": {
          "base_uri": "https://localhost:8080/"
        },
        "id": "yyInhSJowLYD",
        "outputId": "590b5d4d-fb60-46bd-fac9-0b393f448669"
      },
      "execution_count": 29,
      "outputs": [
        {
          "output_type": "execute_result",
          "data": {
            "text/plain": [
              "dict_keys(['Tejas', 'Ayush', 'Abdul'])"
            ]
          },
          "metadata": {},
          "execution_count": 29
        }
      ]
    },
    {
      "cell_type": "code",
      "source": [
        "x.items()"
      ],
      "metadata": {
        "colab": {
          "base_uri": "https://localhost:8080/"
        },
        "id": "vKmaZEo2wRHA",
        "outputId": "6620462c-ced4-45ec-ec1d-654a2bfe5c56"
      },
      "execution_count": 30,
      "outputs": [
        {
          "output_type": "execute_result",
          "data": {
            "text/plain": [
              "dict_items([('Tejas', 987079), ('Ayush', 143456), ('Abdul', 128456)])"
            ]
          },
          "metadata": {},
          "execution_count": 30
        }
      ]
    },
    {
      "cell_type": "code",
      "source": [
        "x.update({\"max\":20})\n",
        "print(x)"
      ],
      "metadata": {
        "colab": {
          "base_uri": "https://localhost:8080/"
        },
        "id": "52x2i728wdMO",
        "outputId": "ed52ab41-c5ef-4289-e0e1-9ccd9eb32464"
      },
      "execution_count": 32,
      "outputs": [
        {
          "output_type": "stream",
          "name": "stdout",
          "text": [
            "{'Tejas': 987079, 'Ayush': 143456, 'Abdul': 128456, 'max': 20}\n"
          ]
        }
      ]
    },
    {
      "cell_type": "code",
      "source": [
        "del x[\"max\"]"
      ],
      "metadata": {
        "id": "Ki1cdZp2xKUu"
      },
      "execution_count": 33,
      "outputs": []
    },
    {
      "cell_type": "code",
      "source": [
        "x"
      ],
      "metadata": {
        "colab": {
          "base_uri": "https://localhost:8080/"
        },
        "id": "7i_azVlZxOUf",
        "outputId": "15ee28c4-f174-41f5-f6de-e13429807d39"
      },
      "execution_count": 34,
      "outputs": [
        {
          "output_type": "execute_result",
          "data": {
            "text/plain": [
              "{'Tejas': 987079, 'Ayush': 143456, 'Abdul': 128456}"
            ]
          },
          "metadata": {},
          "execution_count": 34
        }
      ]
    },
    {
      "cell_type": "code",
      "source": [],
      "metadata": {
        "id": "Am-eX-joxOzr"
      },
      "execution_count": 36,
      "outputs": []
    },
    {
      "cell_type": "code",
      "source": [
        "z = {x: x+1 for x in range(50)}"
      ],
      "metadata": {
        "id": "5JYXhx79xVRf"
      },
      "execution_count": 37,
      "outputs": []
    },
    {
      "cell_type": "code",
      "source": [
        "z"
      ],
      "metadata": {
        "colab": {
          "base_uri": "https://localhost:8080/"
        },
        "id": "Z3a_uGM_y5cF",
        "outputId": "cdb7eccc-718c-4d47-8f99-42b1d431548a"
      },
      "execution_count": 38,
      "outputs": [
        {
          "output_type": "execute_result",
          "data": {
            "text/plain": [
              "{0: 1,\n",
              " 1: 2,\n",
              " 2: 3,\n",
              " 3: 4,\n",
              " 4: 5,\n",
              " 5: 6,\n",
              " 6: 7,\n",
              " 7: 8,\n",
              " 8: 9,\n",
              " 9: 10,\n",
              " 10: 11,\n",
              " 11: 12,\n",
              " 12: 13,\n",
              " 13: 14,\n",
              " 14: 15,\n",
              " 15: 16,\n",
              " 16: 17,\n",
              " 17: 18,\n",
              " 18: 19,\n",
              " 19: 20,\n",
              " 20: 21,\n",
              " 21: 22,\n",
              " 22: 23,\n",
              " 23: 24,\n",
              " 24: 25,\n",
              " 25: 26,\n",
              " 26: 27,\n",
              " 27: 28,\n",
              " 28: 29,\n",
              " 29: 30,\n",
              " 30: 31,\n",
              " 31: 32,\n",
              " 32: 33,\n",
              " 33: 34,\n",
              " 34: 35,\n",
              " 35: 36,\n",
              " 36: 37,\n",
              " 37: 38,\n",
              " 38: 39,\n",
              " 39: 40,\n",
              " 40: 41,\n",
              " 41: 42,\n",
              " 42: 43,\n",
              " 43: 44,\n",
              " 44: 45,\n",
              " 45: 46,\n",
              " 46: 47,\n",
              " 47: 48,\n",
              " 48: 49,\n",
              " 49: 50}"
            ]
          },
          "metadata": {},
          "execution_count": 38
        }
      ]
    },
    {
      "cell_type": "code",
      "source": [],
      "metadata": {
        "id": "eYY12CE4y6uB"
      },
      "execution_count": null,
      "outputs": []
    }
  ]
}
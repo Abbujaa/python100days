{
  "nbformat": 4,
  "nbformat_minor": 0,
  "metadata": {
    "colab": {
      "provenance": [],
      "authorship_tag": "ABX9TyOPoZPJyHyENCK6MVUxqYqi",
      "include_colab_link": true
    },
    "kernelspec": {
      "name": "python3",
      "display_name": "Python 3"
    },
    "language_info": {
      "name": "python"
    }
  },
  "cells": [
    {
      "cell_type": "markdown",
      "metadata": {
        "id": "view-in-github",
        "colab_type": "text"
      },
      "source": [
        "<a href=\"https://colab.research.google.com/github/Abbujaa/python100days/blob/main/Functions.ipynb\" target=\"_parent\"><img src=\"https://colab.research.google.com/assets/colab-badge.svg\" alt=\"Open In Colab\"/></a>"
      ]
    },
    {
      "cell_type": "code",
      "execution_count": null,
      "metadata": {
        "colab": {
          "base_uri": "https://localhost:8080/"
        },
        "id": "uY6Wsgozmn5t",
        "outputId": "84532573-2ac8-47cc-d649-f2f64c124c9e"
      },
      "outputs": [
        {
          "output_type": "stream",
          "name": "stdout",
          "text": [
            "boiling water\n",
            "adding powder\n",
            "adding sugar\n",
            "boiling some more\n",
            "pouring in a cup\n",
            "done\n"
          ]
        }
      ],
      "source": [
        "def make_black_tea():\n",
        "  print(\"boiling water\")\n",
        "  print(\"adding powder\")\n",
        "  print(\"adding sugar\")\n",
        "  print(\"boiling some more\")\n",
        "  print(\"pouring in a cup\")\n",
        "  print(\"done\")\n",
        "\n"
      ]
    },
    {
      "cell_type": "markdown",
      "source": [
        "repetition if i need more number of black tea so i put it into a funtions and call it as many time i want to make a black tea"
      ],
      "metadata": {
        "id": "k3osGNlCnUn1"
      }
    },
    {
      "cell_type": "code",
      "source": [],
      "metadata": {
        "id": "tVd8yoxkoEIM"
      },
      "execution_count": null,
      "outputs": []
    },
    {
      "cell_type": "code",
      "source": [],
      "metadata": {
        "id": "oRF3BNEboEeM"
      },
      "execution_count": null,
      "outputs": []
    },
    {
      "cell_type": "code",
      "source": [
        "def make_black_tea(name, should_add_sugar, tell_me = False)-> None:\n",
        "  if tell_me:\n",
        "    print(\"1. Boiling Water\")\n",
        "    print(\"2. Adding Powder\")\n",
        "\n",
        "    if should_add_sugar:\n",
        "      print(\"3. Adding Sugar\")\n",
        "\n",
        "    print(\"4. Boiling Some More\")\n",
        "    print(\"5. Pouring in a cup\")\n",
        "\n",
        "  output = f\"Black tea made for {name}!\"\n",
        "  if should_add_sugar:\n",
        "    output = output+ (\"with sugar\")\n",
        "  else:\n",
        "    output = output+ (\"without sugar\")\n",
        "\n",
        "  print(output)\n",
        "\n",
        "make_black_tea(\"Tejas\",False )\n",
        "print()\n",
        "\n",
        "\n",
        "\n"
      ],
      "metadata": {
        "colab": {
          "base_uri": "https://localhost:8080/"
        },
        "id": "mopoUe5LnQTG",
        "outputId": "3fc98d34-3525-41c9-d584-9c41a2f16a04"
      },
      "execution_count": null,
      "outputs": [
        {
          "output_type": "stream",
          "name": "stdout",
          "text": [
            "Black tea made for Tejas!without sugar\n",
            "\n"
          ]
        }
      ]
    },
    {
      "cell_type": "markdown",
      "source": [
        "D.R.Y\n",
        "\n",
        "DO NOT REPEAT YOUR SELF\n"
      ],
      "metadata": {
        "id": "ctG7F7S0r2XV"
      }
    },
    {
      "cell_type": "code",
      "source": [
        "def make_black_tea(name = \"Tejas\", should_add_sugar = True, tell_me = False)-> str:\n",
        "  if tell_me:\n",
        "    print(\"1. Boiling Water\")\n",
        "    print(\"2. Adding Powder\")\n",
        "\n",
        "    if should_add_sugar:\n",
        "      print(\"3. Adding Sugar\")\n",
        "\n",
        "    print(\"4. Boiling Some More\")\n",
        "    print(\"5. Pouring in a cup\")\n",
        "\n",
        "  output = f\"Black tea made for {name}!\"\n",
        "  if should_add_sugar:\n",
        "    output = output + \" (with sugar)\"\n",
        "  else:\n",
        "    output = output + \" (without sugar)\"\n",
        "\n",
        "  return output\n",
        "\n",
        "make_black_tea()\n",
        "make_black_tea(\"Mitr\", should_add_sugar=True)\n",
        "\n"
      ],
      "metadata": {
        "colab": {
          "base_uri": "https://localhost:8080/",
          "height": 35
        },
        "id": "4c4yyiEfoHIe",
        "outputId": "105fa266-5392-41dd-b0b0-34d53fba7fb1"
      },
      "execution_count": null,
      "outputs": [
        {
          "output_type": "execute_result",
          "data": {
            "text/plain": [
              "'Black tea made for Mitr! (with sugar)'"
            ],
            "application/vnd.google.colaboratory.intrinsic+json": {
              "type": "string"
            }
          },
          "metadata": {},
          "execution_count": 11
        }
      ]
    },
    {
      "cell_type": "markdown",
      "source": [
        "functions are also object"
      ],
      "metadata": {
        "id": "gcH-3u5rtBU1"
      }
    },
    {
      "cell_type": "code",
      "source": [
        "dir(make_black_tea)"
      ],
      "metadata": {
        "colab": {
          "base_uri": "https://localhost:8080/"
        },
        "id": "dmvdwgnfsk4d",
        "outputId": "fc4e2bdb-fc73-4f18-fd40-9fb6700af6da"
      },
      "execution_count": null,
      "outputs": [
        {
          "output_type": "execute_result",
          "data": {
            "text/plain": [
              "['__annotations__',\n",
              " '__builtins__',\n",
              " '__call__',\n",
              " '__class__',\n",
              " '__closure__',\n",
              " '__code__',\n",
              " '__defaults__',\n",
              " '__delattr__',\n",
              " '__dict__',\n",
              " '__dir__',\n",
              " '__doc__',\n",
              " '__eq__',\n",
              " '__format__',\n",
              " '__ge__',\n",
              " '__get__',\n",
              " '__getattribute__',\n",
              " '__getstate__',\n",
              " '__globals__',\n",
              " '__gt__',\n",
              " '__hash__',\n",
              " '__init__',\n",
              " '__init_subclass__',\n",
              " '__kwdefaults__',\n",
              " '__le__',\n",
              " '__lt__',\n",
              " '__module__',\n",
              " '__name__',\n",
              " '__ne__',\n",
              " '__new__',\n",
              " '__qualname__',\n",
              " '__reduce__',\n",
              " '__reduce_ex__',\n",
              " '__repr__',\n",
              " '__setattr__',\n",
              " '__sizeof__',\n",
              " '__str__',\n",
              " '__subclasshook__']"
            ]
          },
          "metadata": {},
          "execution_count": 14
        }
      ]
    },
    {
      "cell_type": "code",
      "source": [
        "def square(x) -> int:\n",
        "  return x*x\n",
        "print(square(178))"
      ],
      "metadata": {
        "colab": {
          "base_uri": "https://localhost:8080/"
        },
        "id": "gJ7-xyOAtFYU",
        "outputId": "d70a9862-a9ca-408a-cd4f-84aa3758651f"
      },
      "execution_count": null,
      "outputs": [
        {
          "output_type": "stream",
          "name": "stdout",
          "text": [
            "31684\n"
          ]
        }
      ]
    },
    {
      "cell_type": "markdown",
      "source": [
        "#LAMBDAS\n",
        "THE NAMELESS FUNCTIONS\n",
        "\n",
        "single line function\n",
        "\n",
        "\n"
      ],
      "metadata": {
        "id": "BFiiohiutZRm"
      }
    },
    {
      "cell_type": "code",
      "source": [
        "square = lambda x : x*x\n",
        "print(square(180))"
      ],
      "metadata": {
        "colab": {
          "base_uri": "https://localhost:8080/"
        },
        "id": "JDWe7qE6v1Vk",
        "outputId": "81d9117a-a436-4c55-8e94-1796ac8f12e7"
      },
      "execution_count": null,
      "outputs": [
        {
          "output_type": "stream",
          "name": "stdout",
          "text": [
            "32400\n"
          ]
        }
      ]
    },
    {
      "cell_type": "code",
      "source": [
        "x = [2,3,5,7,1.5,1000]\n",
        "\n",
        "for idx, number in enumerate(x):\n",
        "  x[idx] = number * number\n",
        "\n",
        "print(x)"
      ],
      "metadata": {
        "colab": {
          "base_uri": "https://localhost:8080/"
        },
        "id": "cI56BZT7v_D5",
        "outputId": "b04cb224-3e3d-48bf-da9f-604654478b94"
      },
      "execution_count": null,
      "outputs": [
        {
          "output_type": "stream",
          "name": "stdout",
          "text": [
            "[4, 9, 25, 49, 2.25, 1000000]\n"
          ]
        }
      ]
    },
    {
      "cell_type": "code",
      "source": [
        "multiply = lambda x , y: x*y\n",
        "print(multiply(2,3))"
      ],
      "metadata": {
        "colab": {
          "base_uri": "https://localhost:8080/"
        },
        "id": "lflPxtdPz1Wx",
        "outputId": "1483a796-cc6a-4d89-9440-94629ff53722"
      },
      "execution_count": null,
      "outputs": [
        {
          "output_type": "stream",
          "name": "stdout",
          "text": [
            "6\n"
          ]
        }
      ]
    },
    {
      "cell_type": "markdown",
      "source": [
        "importance in higher order function\n",
        "\n",
        "that can take in function\n",
        "\n",
        "map\n",
        "\n",
        "filter\n",
        "\n",
        "reduce"
      ],
      "metadata": {
        "id": "6UlNHHBmzjMm"
      }
    },
    {
      "cell_type": "code",
      "source": [
        "x = [2,3,5,7,1.5,1000]\n",
        "\n",
        "square = lambda x : x*x*2\n",
        "map(square, x)\n",
        "print(list(map(square, x)))"
      ],
      "metadata": {
        "id": "uWE1ZXw-wcVL",
        "colab": {
          "base_uri": "https://localhost:8080/"
        },
        "outputId": "270ecb8a-5a96-4241-9476-f2b037e87466"
      },
      "execution_count": 21,
      "outputs": [
        {
          "output_type": "stream",
          "name": "stdout",
          "text": [
            "[8, 18, 50, 98, 4.5, 2000000]\n"
          ]
        }
      ]
    },
    {
      "cell_type": "markdown",
      "source": [
        "map is an iterator\n"
      ],
      "metadata": {
        "id": "IgJDlJ8n4Ytq"
      }
    },
    {
      "cell_type": "markdown",
      "source": [
        "FILTER"
      ],
      "metadata": {
        "id": "AsZip-pB4dhy"
      }
    },
    {
      "cell_type": "code",
      "source": [
        "x = [2, 3, 5, 7, 1.5, 1000]\n",
        "\n",
        "is_even = lambda x:x%2==0\n",
        "print(list(filter(is_even, x)))\n",
        "\n",
        "for i in x:\n",
        "  print(i)\n",
        "\n",
        "print(x)"
      ],
      "metadata": {
        "colab": {
          "base_uri": "https://localhost:8080/"
        },
        "id": "M4Zm0Vuq4TCu",
        "outputId": "e27a84e5-9f89-41fe-f8d6-92056e69653d"
      },
      "execution_count": 23,
      "outputs": [
        {
          "output_type": "stream",
          "name": "stdout",
          "text": [
            "[2, 1000]\n",
            "2\n",
            "3\n",
            "5\n",
            "7\n",
            "1.5\n",
            "1000\n",
            "[2, 3, 5, 7, 1.5, 1000]\n"
          ]
        }
      ]
    },
    {
      "cell_type": "code",
      "source": [
        "from functools import reduce\n",
        "\n"
      ],
      "metadata": {
        "id": "3hni4n8x6QeJ"
      },
      "execution_count": 25,
      "outputs": []
    },
    {
      "cell_type": "code",
      "source": [
        "x = [2, 3,5, 7, 1.5, 1000]\n",
        "\n",
        "sum_up = lambda a, b: a + b\n",
        "\n",
        "x = reduce(sum_up, x)\n",
        "\n",
        "\n",
        "print(x)"
      ],
      "metadata": {
        "colab": {
          "base_uri": "https://localhost:8080/"
        },
        "id": "_ZaLJAN04rj7",
        "outputId": "36509a8b-788c-46d0-f2c4-542210936053"
      },
      "execution_count": 28,
      "outputs": [
        {
          "output_type": "stream",
          "name": "stdout",
          "text": [
            "1018.5\n"
          ]
        }
      ]
    },
    {
      "cell_type": "markdown",
      "source": [
        "csutom HOFS\n"
      ],
      "metadata": {
        "id": "sicUaSFY7m7p"
      }
    },
    {
      "cell_type": "code",
      "source": [
        "def map(func, lisy)-> list:\n",
        "  output = []\n",
        "  for item in lisy:\n",
        "    output.append(func(item))\n",
        "  return output\n",
        "\n",
        "x = [2,3,5,7,1.5,1000]\n",
        "\n",
        "square = lambda x : x*x*2\n",
        "map(square, x)\n",
        "print(list(map(square, x)))"
      ],
      "metadata": {
        "colab": {
          "base_uri": "https://localhost:8080/"
        },
        "id": "o8xcwV6w6LyM",
        "outputId": "78c77c50-d47e-4529-8e57-726e69d4d0ab"
      },
      "execution_count": 29,
      "outputs": [
        {
          "output_type": "stream",
          "name": "stdout",
          "text": [
            "[8, 18, 50, 98, 4.5, 2000000]\n"
          ]
        }
      ]
    },
    {
      "cell_type": "markdown",
      "source": [
        "#passing in collections"
      ],
      "metadata": {
        "id": "EqqJ5ujj8FAr"
      }
    },
    {
      "cell_type": "code",
      "source": [
        "def make_black_tea(name, should_add_sugar, tell_me = False)-> None:\n",
        "  if tell_me:\n",
        "    print(\"1. Boiling Water\")\n",
        "    print(\"2. Adding Powder\")\n",
        "\n",
        "    if should_add_sugar:\n",
        "      print(\"3. Adding Sugar\")\n",
        "\n",
        "    print(\"4. Boiling Some More\")\n",
        "    print(\"5. Pouring in a cup\")\n",
        "\n",
        "  output = f\"Black tea made for {name}!\"\n",
        "  if should_add_sugar:\n",
        "    output = output+ (\"with sugar\")\n",
        "  else:\n",
        "    output = output+ (\"without sugar\")\n",
        "\n",
        "  return output\n",
        "\n",
        "family = [\n",
        "    {\"name\": \"tejas\", \"should_add_sugar\":True},\n",
        "    {\"name\": \"shiva\", \"should_add_sugar\":True},\n",
        "    {\"name\": \"dad\", \"should_add_sugar\":False},\n",
        "    {\"name\": \"uncle\", \"should_add_sugar\":False},\n",
        "    {\"name\": \"brother\", \"should_add_sugar\":False},\n",
        "\n",
        "]\n",
        "\n",
        "for person in family:\n",
        "  print(make_black_tea(**person))"
      ],
      "metadata": {
        "colab": {
          "base_uri": "https://localhost:8080/"
        },
        "id": "VojDInRI77oz",
        "outputId": "9d6f852b-3642-45f7-a18f-2da0e241c20d"
      },
      "execution_count": 33,
      "outputs": [
        {
          "output_type": "stream",
          "name": "stdout",
          "text": [
            "Black tea made for tejas!with sugar\n",
            "Black tea made for shiva!with sugar\n",
            "Black tea made for dad!without sugar\n",
            "Black tea made for uncle!without sugar\n",
            "Black tea made for brother!without sugar\n"
          ]
        }
      ]
    },
    {
      "cell_type": "code",
      "source": [],
      "metadata": {
        "id": "f-CPss0g9kB5"
      },
      "execution_count": null,
      "outputs": []
    }
  ]
}
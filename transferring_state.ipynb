{
  "nbformat": 4,
  "nbformat_minor": 0,
  "metadata": {
    "colab": {
      "provenance": [],
      "authorship_tag": "ABX9TyPlD3ds0aIDen/yhL6B9b8+",
      "include_colab_link": true
    },
    "kernelspec": {
      "name": "python3",
      "display_name": "Python 3"
    },
    "language_info": {
      "name": "python"
    }
  },
  "cells": [
    {
      "cell_type": "markdown",
      "metadata": {
        "id": "view-in-github",
        "colab_type": "text"
      },
      "source": [
        "<a href=\"https://colab.research.google.com/github/Abbujaa/python100days/blob/main/transferring_state.ipynb\" target=\"_parent\"><img src=\"https://colab.research.google.com/assets/colab-badge.svg\" alt=\"Open In Colab\"/></a>"
      ]
    },
    {
      "cell_type": "code",
      "execution_count": 1,
      "metadata": {
        "colab": {
          "base_uri": "https://localhost:8080/"
        },
        "id": "H2FN6a2yjqXw",
        "outputId": "e4f9ddef-13c8-4d88-ffae-5887330bd725"
      },
      "outputs": [
        {
          "output_type": "stream",
          "name": "stdout",
          "text": [
            "0\n",
            "1\n",
            "2\n",
            "3\n",
            "4\n",
            "5\n",
            "6\n",
            "7\n",
            "8\n",
            "9\n",
            "10\n",
            "11\n",
            "12\n",
            "13\n",
            "14\n",
            "15\n",
            "16\n",
            "17\n",
            "18\n",
            "19\n",
            "20\n",
            "21\n",
            "22\n",
            "23\n",
            "24\n",
            "25\n",
            "26\n",
            "27\n",
            "28\n",
            "29\n",
            "30\n",
            "31\n",
            "32\n",
            "33\n",
            "34\n",
            "35\n",
            "36\n",
            "37\n",
            "38\n",
            "39\n",
            "40\n",
            "41\n",
            "42\n",
            "43\n",
            "44\n",
            "45\n",
            "46\n",
            "47\n",
            "48\n",
            "49\n",
            "50\n"
          ]
        }
      ],
      "source": [
        "i=0\n",
        "while i < 100:\n",
        "  if i >50:\n",
        "    break\n",
        "\n",
        "  print(i)\n",
        "  i+=1"
      ]
    },
    {
      "source": [
        "number = int(input())\n",
        "\n",
        "is_prime_number = True  # Initialize as True, assuming it's prime until proven otherwise\n",
        "\n",
        "# Start the loop from 2, as division by 1 is trivial and division by 0 causes an error\n",
        "for i in range(2, number):\n",
        "  if number % i == 0:\n",
        "    is_prime_number = False\n",
        "    break\n",
        "\n",
        "if is_prime_number:\n",
        "  print(\"is a prime number\")\n",
        "else:\n",
        "  print(\"is not a prime number\")"
      ],
      "cell_type": "code",
      "metadata": {
        "colab": {
          "base_uri": "https://localhost:8080/"
        },
        "id": "oFK7Qqg5jeWj",
        "outputId": "2126f9dd-c5aa-4fc0-9bc3-1eb7db3d26f7"
      },
      "execution_count": 7,
      "outputs": [
        {
          "output_type": "stream",
          "name": "stdout",
          "text": [
            "19\n",
            "is a prime number\n"
          ]
        }
      ]
    },
    {
      "cell_type": "code",
      "source": [
        "number = int(input())\n",
        "\n",
        "is_prime_number = True\n",
        "\n",
        "for i in range(number):\n",
        "  if i in [0, 1]:\n",
        "    continue\n",
        "\n",
        "  if number % i == 0:\n",
        "    is_prime_number = False\n",
        "  break\n",
        "\n",
        "else:\n",
        "  print(\"loop\")\n",
        "\n",
        "if is_prime_number:\n",
        "  print(\"is prime number\")\n",
        "else:\n",
        "  print(\"is not prime number\")\n"
      ],
      "metadata": {
        "colab": {
          "base_uri": "https://localhost:8080/"
        },
        "id": "xmYj6iGJis2w",
        "outputId": "a1cacbdd-9d79-4322-e130-34e17767d676"
      },
      "execution_count": 10,
      "outputs": [
        {
          "output_type": "stream",
          "name": "stdout",
          "text": [
            "19\n",
            "is prime number\n"
          ]
        }
      ]
    },
    {
      "cell_type": "code",
      "source": [
        "number = int(input())\n",
        "\n",
        "for i in range(number):\n",
        "  if number < 2:\n",
        "    # ill do later\n",
        "    pass\n",
        "\n",
        "  if i in [0, 1]:\n",
        "    continue\n",
        "\n",
        "  if number % i == 0:\n",
        "    print(\"is not prime number\")\n",
        "    break\n",
        "  else:\n",
        "    print(\"is a prime number\")"
      ],
      "metadata": {
        "colab": {
          "base_uri": "https://localhost:8080/"
        },
        "id": "LX-iAJZ1kUVX",
        "outputId": "e0554b2f-98e0-44d1-ecba-12944ba1ce0a"
      },
      "execution_count": 15,
      "outputs": [
        {
          "output_type": "stream",
          "name": "stdout",
          "text": [
            "19\n",
            "is a prime number\n",
            "is a prime number\n",
            "is a prime number\n",
            "is a prime number\n",
            "is a prime number\n",
            "is a prime number\n",
            "is a prime number\n",
            "is a prime number\n",
            "is a prime number\n",
            "is a prime number\n",
            "is a prime number\n",
            "is a prime number\n",
            "is a prime number\n",
            "is a prime number\n",
            "is a prime number\n",
            "is a prime number\n",
            "is a prime number\n"
          ]
        }
      ]
    },
    {
      "cell_type": "code",
      "source": [],
      "metadata": {
        "id": "5sMfQuGplacD"
      },
      "execution_count": 14,
      "outputs": []
    }
  ]
}
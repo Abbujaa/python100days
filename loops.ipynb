{
  "nbformat": 4,
  "nbformat_minor": 0,
  "metadata": {
    "colab": {
      "provenance": [],
      "authorship_tag": "ABX9TyO04G4bZoMkJmMTfVzCBq72",
      "include_colab_link": true
    },
    "kernelspec": {
      "name": "python3",
      "display_name": "Python 3"
    },
    "language_info": {
      "name": "python"
    }
  },
  "cells": [
    {
      "cell_type": "markdown",
      "metadata": {
        "id": "view-in-github",
        "colab_type": "text"
      },
      "source": [
        "<a href=\"https://colab.research.google.com/github/Abbujaa/python100days/blob/main/loops.ipynb\" target=\"_parent\"><img src=\"https://colab.research.google.com/assets/colab-badge.svg\" alt=\"Open In Colab\"/></a>"
      ]
    },
    {
      "cell_type": "code",
      "source": [
        "names = input(\"Write the names to wish seperated by a comma: \").split(\",\")\n",
        "\n",
        "for i in range(len(names)):\n",
        "  print(f\"happy birthday {names[i]}\")"
      ],
      "metadata": {
        "colab": {
          "base_uri": "https://localhost:8080/"
        },
        "id": "SAXO4g8vTpk-",
        "outputId": "23c15e26-cc05-4456-f8a8-1e4a50694749"
      },
      "execution_count": 7,
      "outputs": [
        {
          "output_type": "stream",
          "name": "stdout",
          "text": [
            "Write the names to wish seperated by a comma: hamid,ayesha,umar,\n",
            "happy birthday hamid\n",
            "happy birthday ayesha\n",
            "happy birthday umar\n",
            "happy birthday \n"
          ]
        }
      ]
    },
    {
      "cell_type": "code",
      "execution_count": 6,
      "metadata": {
        "id": "NXHr5GUSTEBr"
      },
      "outputs": [],
      "source": [
        "i=0"
      ]
    },
    {
      "cell_type": "code",
      "source": [
        "while i <= 100:\n",
        "  print(i)\n",
        "  i += 1"
      ],
      "metadata": {
        "colab": {
          "base_uri": "https://localhost:8080/"
        },
        "id": "3pT_2ZThTgiv",
        "outputId": "1849b188-0c5f-40d1-df83-f3bb004b60a1"
      },
      "execution_count": 2,
      "outputs": [
        {
          "output_type": "stream",
          "name": "stdout",
          "text": [
            "1\n",
            "2\n",
            "3\n",
            "4\n",
            "5\n",
            "6\n",
            "7\n",
            "8\n",
            "9\n",
            "10\n",
            "11\n",
            "12\n",
            "13\n",
            "14\n",
            "15\n",
            "16\n",
            "17\n",
            "18\n",
            "19\n",
            "20\n",
            "21\n",
            "22\n",
            "23\n",
            "24\n",
            "25\n",
            "26\n",
            "27\n",
            "28\n",
            "29\n",
            "30\n",
            "31\n",
            "32\n",
            "33\n",
            "34\n",
            "35\n",
            "36\n",
            "37\n",
            "38\n",
            "39\n",
            "40\n",
            "41\n",
            "42\n",
            "43\n",
            "44\n",
            "45\n",
            "46\n",
            "47\n",
            "48\n",
            "49\n",
            "50\n",
            "51\n",
            "52\n",
            "53\n",
            "54\n",
            "55\n",
            "56\n",
            "57\n",
            "58\n",
            "59\n",
            "60\n",
            "61\n",
            "62\n",
            "63\n",
            "64\n",
            "65\n",
            "66\n",
            "67\n",
            "68\n",
            "69\n",
            "70\n",
            "71\n",
            "72\n",
            "73\n",
            "74\n",
            "75\n",
            "76\n",
            "77\n",
            "78\n",
            "79\n",
            "80\n",
            "81\n",
            "82\n",
            "83\n",
            "84\n",
            "85\n",
            "86\n",
            "87\n",
            "88\n",
            "89\n",
            "90\n",
            "91\n",
            "92\n",
            "93\n",
            "94\n",
            "95\n",
            "96\n",
            "97\n",
            "98\n",
            "99\n",
            "100\n"
          ]
        }
      ]
    },
    {
      "cell_type": "code",
      "source": [
        "names = input(\"Write the names to wish seperated by a comma: \").split(\",\")\n",
        "\n",
        "for name in names:\n",
        "  print(f\"happy birthday {names[i]}\")"
      ],
      "metadata": {
        "colab": {
          "base_uri": "https://localhost:8080/"
        },
        "id": "V193GHiRTm4X",
        "outputId": "ddc1a8bd-2e78-4a40-8db9-253a7effaf52"
      },
      "execution_count": 8,
      "outputs": [
        {
          "output_type": "stream",
          "name": "stdout",
          "text": [
            "Write the names to wish seperated by a comma: 0,1,2,3,4,5\n",
            "happy birthday 3\n",
            "happy birthday 3\n",
            "happy birthday 3\n",
            "happy birthday 3\n",
            "happy birthday 3\n",
            "happy birthday 3\n"
          ]
        }
      ]
    },
    {
      "cell_type": "code",
      "source": [
        "i = int(input())\n",
        "\n",
        "for idx, i in enumerate(range(i)):\n",
        "  print(\"*\"*(i +1), idx)"
      ],
      "metadata": {
        "colab": {
          "base_uri": "https://localhost:8080/"
        },
        "id": "7KzcIJ34VhAA",
        "outputId": "b67dda7b-a3f4-453c-8ee6-581686ea16f0"
      },
      "execution_count": 11,
      "outputs": [
        {
          "output_type": "stream",
          "name": "stdout",
          "text": [
            "16\n",
            "* 0\n",
            "** 1\n",
            "*** 2\n",
            "**** 3\n",
            "***** 4\n",
            "****** 5\n",
            "******* 6\n",
            "******** 7\n",
            "********* 8\n",
            "********** 9\n",
            "*********** 10\n",
            "************ 11\n",
            "************* 12\n",
            "************** 13\n",
            "*************** 14\n",
            "**************** 15\n"
          ]
        }
      ]
    },
    {
      "cell_type": "code",
      "source": [],
      "metadata": {
        "id": "VfTcWWO-Wygo"
      },
      "execution_count": null,
      "outputs": []
    }
  ]
}
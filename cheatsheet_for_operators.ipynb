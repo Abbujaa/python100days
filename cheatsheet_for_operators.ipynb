{
  "nbformat": 4,
  "nbformat_minor": 0,
  "metadata": {
    "colab": {
      "provenance": [],
      "authorship_tag": "ABX9TyPak2VJhofducqDZ4wRjzuP",
      "include_colab_link": true
    },
    "kernelspec": {
      "name": "python3",
      "display_name": "Python 3"
    },
    "language_info": {
      "name": "python"
    }
  },
  "cells": [
    {
      "cell_type": "markdown",
      "metadata": {
        "id": "view-in-github",
        "colab_type": "text"
      },
      "source": [
        "<a href=\"https://colab.research.google.com/github/Abbujaa/python100days/blob/main/cheatsheet_for_operators.ipynb\" target=\"_parent\"><img src=\"https://colab.research.google.com/assets/colab-badge.svg\" alt=\"Open In Colab\"/></a>"
      ]
    },
    {
      "cell_type": "markdown",
      "source": [
        "Arithmetic operators are used to perform mathematical operations on numeric values (integers and floating-point numbers). The following are\n",
        "the arithmetic operators in Python:\n",
        "\n",
        "+ (+)addition\n",
        "* (*)multiplication\n",
        "- (-)subtraction\n",
        "* (%) modulus\n",
        "* (**) exponentiation  goes from right to left\n",
        "* (//) (floor division)\n",
        "* (/) division\n",
        "\n"
      ],
      "metadata": {
        "id": "3tQc4c_XQZ14"
      }
    },
    {
      "cell_type": "code",
      "source": [
        "400 + 200, 00 + 400"
      ],
      "metadata": {
        "colab": {
          "base_uri": "https://localhost:8080/"
        },
        "id": "FyVOHlVAQZXv",
        "outputId": "ae63e602-7688-44f7-a791-5360b2f49911"
      },
      "execution_count": 9,
      "outputs": [
        {
          "output_type": "execute_result",
          "data": {
            "text/plain": [
              "(600, 400)"
            ]
          },
          "metadata": {},
          "execution_count": 9
        }
      ]
    },
    {
      "cell_type": "code",
      "source": [
        "200 -50,50-200"
      ],
      "metadata": {
        "colab": {
          "base_uri": "https://localhost:8080/"
        },
        "id": "9rzrKusYRYFX",
        "outputId": "aee43991-e196-451a-9481-f8659d8f1ae9"
      },
      "execution_count": 11,
      "outputs": [
        {
          "output_type": "execute_result",
          "data": {
            "text/plain": [
              "(150, -150)"
            ]
          },
          "metadata": {},
          "execution_count": 11
        }
      ]
    },
    {
      "cell_type": "code",
      "source": [
        "100 * 35, 35 * 100"
      ],
      "metadata": {
        "colab": {
          "base_uri": "https://localhost:8080/"
        },
        "id": "_1ErucEsRcUH",
        "outputId": "65ed3b4f-13c8-4b8e-b370-191b3f357b21"
      },
      "execution_count": 12,
      "outputs": [
        {
          "output_type": "execute_result",
          "data": {
            "text/plain": [
              "(3500, 3500)"
            ]
          },
          "metadata": {},
          "execution_count": 12
        }
      ]
    },
    {
      "cell_type": "code",
      "source": [
        "50 / 2 , 2/ 50"
      ],
      "metadata": {
        "colab": {
          "base_uri": "https://localhost:8080/"
        },
        "id": "PzGIT9OKReF_",
        "outputId": "c5d51b4b-1609-4709-dc58-effa92f3bf8f"
      },
      "execution_count": 13,
      "outputs": [
        {
          "output_type": "execute_result",
          "data": {
            "text/plain": [
              "(25.0, 0.04)"
            ]
          },
          "metadata": {},
          "execution_count": 13
        }
      ]
    },
    {
      "cell_type": "code",
      "source": [
        "3 ** 2, 3*3"
      ],
      "metadata": {
        "colab": {
          "base_uri": "https://localhost:8080/"
        },
        "id": "_maVv3AtRmhH",
        "outputId": "b1d9326f-96f0-4899-9ad4-0aa121253e54"
      },
      "execution_count": 14,
      "outputs": [
        {
          "output_type": "execute_result",
          "data": {
            "text/plain": [
              "(9, 9)"
            ]
          },
          "metadata": {},
          "execution_count": 14
        }
      ]
    },
    {
      "cell_type": "code",
      "source": [
        "2 ** 5"
      ],
      "metadata": {
        "colab": {
          "base_uri": "https://localhost:8080/"
        },
        "id": "mrPxGZa2RoKH",
        "outputId": "00a7423f-ef00-423b-c6ab-e180dca19351"
      },
      "execution_count": 15,
      "outputs": [
        {
          "output_type": "execute_result",
          "data": {
            "text/plain": [
              "32"
            ]
          },
          "metadata": {},
          "execution_count": 15
        }
      ]
    },
    {
      "cell_type": "code",
      "source": [
        "2 ** 5 ** 3, 2 ** (5 ** 3) #goes from right to left"
      ],
      "metadata": {
        "colab": {
          "base_uri": "https://localhost:8080/"
        },
        "id": "D18fVvoBRo-P",
        "outputId": "a76c82f2-d95a-4796-e045-aa00af6cc362"
      },
      "execution_count": 17,
      "outputs": [
        {
          "output_type": "execute_result",
          "data": {
            "text/plain": [
              "(42535295865117307932921825928971026432,\n",
              " 42535295865117307932921825928971026432)"
            ]
          },
          "metadata": {},
          "execution_count": 17
        }
      ]
    },
    {
      "cell_type": "code",
      "source": [
        "35/2"
      ],
      "metadata": {
        "colab": {
          "base_uri": "https://localhost:8080/"
        },
        "id": "XL42ToTHRtZP",
        "outputId": "a2236349-c3e5-437b-c4cd-ae4ca27a143a"
      },
      "execution_count": 18,
      "outputs": [
        {
          "output_type": "execute_result",
          "data": {
            "text/plain": [
              "17.5"
            ]
          },
          "metadata": {},
          "execution_count": 18
        }
      ]
    },
    {
      "cell_type": "code",
      "source": [
        "35.0//2.0"
      ],
      "metadata": {
        "colab": {
          "base_uri": "https://localhost:8080/"
        },
        "id": "n-aR0klaRtUv",
        "outputId": "d4d7e111-39a3-4164-a7bb-4369b92eb3ab"
      },
      "execution_count": 19,
      "outputs": [
        {
          "output_type": "execute_result",
          "data": {
            "text/plain": [
              "17.0"
            ]
          },
          "metadata": {},
          "execution_count": 19
        }
      ]
    },
    {
      "cell_type": "code",
      "source": [
        "35%2 #gives remainder"
      ],
      "metadata": {
        "colab": {
          "base_uri": "https://localhost:8080/"
        },
        "id": "mKxsn48_RxrH",
        "outputId": "0484dd8e-fc50-40ad-bd0d-e60696d0077b"
      },
      "execution_count": 21,
      "outputs": [
        {
          "output_type": "execute_result",
          "data": {
            "text/plain": [
              "1"
            ]
          },
          "metadata": {},
          "execution_count": 21
        }
      ]
    },
    {
      "cell_type": "code",
      "source": [
        "(35//2) * 2 + (35%2)"
      ],
      "metadata": {
        "colab": {
          "base_uri": "https://localhost:8080/"
        },
        "id": "UdX3eInIR4V3",
        "outputId": "0076f18b-a370-4787-94b2-f7dc66d57b75"
      },
      "execution_count": 22,
      "outputs": [
        {
          "output_type": "execute_result",
          "data": {
            "text/plain": [
              "35"
            ]
          },
          "metadata": {},
          "execution_count": 22
        }
      ]
    },
    {
      "cell_type": "code",
      "source": [
        "1/2"
      ],
      "metadata": {
        "colab": {
          "base_uri": "https://localhost:8080/"
        },
        "id": "ncTAWZxFR-jf",
        "outputId": "2b7ff333-4048-4b8e-d4ec-869cf9ca2a9a"
      },
      "execution_count": 23,
      "outputs": [
        {
          "output_type": "execute_result",
          "data": {
            "text/plain": [
              "0.5"
            ]
          },
          "metadata": {},
          "execution_count": 23
        }
      ]
    },
    {
      "cell_type": "code",
      "source": [
        "400+200+300"
      ],
      "metadata": {
        "colab": {
          "base_uri": "https://localhost:8080/"
        },
        "id": "pgh1R-u2R-gv",
        "outputId": "d3280234-3ca1-4bd5-a9ed-35fdea2e8e27"
      },
      "execution_count": 24,
      "outputs": [
        {
          "output_type": "execute_result",
          "data": {
            "text/plain": [
              "900"
            ]
          },
          "metadata": {},
          "execution_count": 24
        }
      ]
    },
    {
      "cell_type": "markdown",
      "source": [
        "Comparison Operators\n",
        "\n",
        "Comparison operators are used to compare values and determine the relationship between them. The following are the\n",
        "comparison operators in Python:\n",
        "\n",
        "== (equal to)\n",
        "\n",
        "!= (not equal to)\n",
        "\n",
        "(>) (greater than)\n",
        "\n",
        "< (less than)\n",
        "\n",
        "(>=) (greater than or equal to)\n",
        "\n",
        "<= (less than or equal to)"
      ],
      "metadata": {
        "id": "-GckPAkbSp8h"
      }
    },
    {
      "cell_type": "code",
      "source": [
        "x = \"stRnrrg\"\n",
        "y = \"string\"\n",
        "\n",
        "x == y, x != y"
      ],
      "metadata": {
        "colab": {
          "base_uri": "https://localhost:8080/"
        },
        "id": "Qut2lWD-R-eP",
        "outputId": "ca391165-15cd-4823-dc72-a3ac73c55f0c"
      },
      "execution_count": 25,
      "outputs": [
        {
          "output_type": "execute_result",
          "data": {
            "text/plain": [
              "(False, True)"
            ]
          },
          "metadata": {},
          "execution_count": 25
        }
      ]
    },
    {
      "cell_type": "code",
      "source": [
        "30 >20,-20>-30"
      ],
      "metadata": {
        "colab": {
          "base_uri": "https://localhost:8080/"
        },
        "id": "fzhlRozOR-bn",
        "outputId": "c5c9761c-6256-4b7a-ca9a-ba7dbaa16582"
      },
      "execution_count": 26,
      "outputs": [
        {
          "output_type": "execute_result",
          "data": {
            "text/plain": [
              "(True, True)"
            ]
          },
          "metadata": {},
          "execution_count": 26
        }
      ]
    },
    {
      "cell_type": "code",
      "source": [
        "30 <- 20, 20 < 30"
      ],
      "metadata": {
        "colab": {
          "base_uri": "https://localhost:8080/"
        },
        "id": "shfPk-4dR-Y_",
        "outputId": "feae69e2-fe2f-472c-899a-607e49b6fb9a"
      },
      "execution_count": 27,
      "outputs": [
        {
          "output_type": "execute_result",
          "data": {
            "text/plain": [
              "(False, True)"
            ]
          },
          "metadata": {},
          "execution_count": 27
        }
      ]
    },
    {
      "cell_type": "code",
      "source": [
        "30 <= 30, 30 >= 30"
      ],
      "metadata": {
        "colab": {
          "base_uri": "https://localhost:8080/"
        },
        "id": "A9YmXEF0R-V3",
        "outputId": "344987ab-2bd3-4fa8-aa75-aebff94440d9"
      },
      "execution_count": 28,
      "outputs": [
        {
          "output_type": "execute_result",
          "data": {
            "text/plain": [
              "(True, True)"
            ]
          },
          "metadata": {},
          "execution_count": 28
        }
      ]
    },
    {
      "cell_type": "code",
      "source": [
        "x, y = \"Apple\", \"Banana\""
      ],
      "metadata": {
        "id": "jLGdjStXUAKv"
      },
      "execution_count": 29,
      "outputs": []
    },
    {
      "cell_type": "code",
      "source": [
        "x<y"
      ],
      "metadata": {
        "colab": {
          "base_uri": "https://localhost:8080/"
        },
        "id": "cnq0G-u2UCio",
        "outputId": "31807abb-c1f2-4b68-b911-e5fbf5b22c47"
      },
      "execution_count": 30,
      "outputs": [
        {
          "output_type": "execute_result",
          "data": {
            "text/plain": [
              "True"
            ]
          },
          "metadata": {},
          "execution_count": 30
        }
      ]
    },
    {
      "cell_type": "code",
      "source": [
        "ord(x[0])+ord(x[1]) + ord(x[2]) + ord(x[3]) + ord(x[4])"
      ],
      "metadata": {
        "colab": {
          "base_uri": "https://localhost:8080/"
        },
        "id": "mIeTAkD0UCfg",
        "outputId": "16805008-9a42-46ba-f0e0-5212ef619969"
      },
      "execution_count": 31,
      "outputs": [
        {
          "output_type": "execute_result",
          "data": {
            "text/plain": [
              "498"
            ]
          },
          "metadata": {},
          "execution_count": 31
        }
      ]
    },
    {
      "cell_type": "code",
      "source": [
        "ord(y[0]) + ord(y[1]) + ord(y[2]) + ord(y[3]) + ord(y[4]) + ord(y[5])"
      ],
      "metadata": {
        "colab": {
          "base_uri": "https://localhost:8080/"
        },
        "id": "4hyknVSGUCcX",
        "outputId": "4b37774a-442b-4af6-9c91-0a961889c83d"
      },
      "execution_count": 33,
      "outputs": [
        {
          "output_type": "execute_result",
          "data": {
            "text/plain": [
              "577"
            ]
          },
          "metadata": {},
          "execution_count": 33
        }
      ]
    },
    {
      "cell_type": "markdown",
      "source": [
        "Logical Operators\n",
        "\n",
        "Logical operators are used to perform boolean operations on conditions or expressions. The following are the logical operators in\n",
        "Python:\n",
        "\n",
        "and (logical and)\n",
        "\n",
        "or (logical or)\n",
        "\n",
        "not (logical negation)"
      ],
      "metadata": {
        "id": "BLhFpctRUa5g"
      }
    },
    {
      "cell_type": "code",
      "source": [
        "not \"Apple\" == \"Apple\""
      ],
      "metadata": {
        "colab": {
          "base_uri": "https://localhost:8080/"
        },
        "id": "-wpas0F9UCZQ",
        "outputId": "43caea10-2901-486e-9114-51362378fddb"
      },
      "execution_count": 34,
      "outputs": [
        {
          "output_type": "execute_result",
          "data": {
            "text/plain": [
              "False"
            ]
          },
          "metadata": {},
          "execution_count": 34
        }
      ]
    },
    {
      "cell_type": "code",
      "source": [
        "not \"Apple\" != \"Apple\""
      ],
      "metadata": {
        "colab": {
          "base_uri": "https://localhost:8080/"
        },
        "id": "6T2HQXK1U3dP",
        "outputId": "a134bfbe-909c-4020-dfd1-dc668d00ad4d"
      },
      "execution_count": 35,
      "outputs": [
        {
          "output_type": "execute_result",
          "data": {
            "text/plain": [
              "True"
            ]
          },
          "metadata": {},
          "execution_count": 35
        }
      ]
    },
    {
      "cell_type": "code",
      "source": [
        "True and -True"
      ],
      "metadata": {
        "colab": {
          "base_uri": "https://localhost:8080/"
        },
        "id": "k4Kc13rBU3Fg",
        "outputId": "e199baa4-d019-4ead-c733-f8c767c69952"
      },
      "execution_count": 37,
      "outputs": [
        {
          "output_type": "execute_result",
          "data": {
            "text/plain": [
              "-1"
            ]
          },
          "metadata": {},
          "execution_count": 37
        }
      ]
    },
    {
      "cell_type": "code",
      "source": [
        "True and False"
      ],
      "metadata": {
        "colab": {
          "base_uri": "https://localhost:8080/"
        },
        "id": "Ikw6DG76VIMo",
        "outputId": "9bba8209-83a1-44db-d37d-c54c6c741aab"
      },
      "execution_count": 38,
      "outputs": [
        {
          "output_type": "execute_result",
          "data": {
            "text/plain": [
              "False"
            ]
          },
          "metadata": {},
          "execution_count": 38
        }
      ]
    },
    {
      "cell_type": "code",
      "source": [
        "(True) or (True)"
      ],
      "metadata": {
        "colab": {
          "base_uri": "https://localhost:8080/"
        },
        "id": "u7_qHAkmVN1Q",
        "outputId": "fe4916c7-cdb7-44a2-851b-ef373889b0b3"
      },
      "execution_count": 40,
      "outputs": [
        {
          "output_type": "execute_result",
          "data": {
            "text/plain": [
              "True"
            ]
          },
          "metadata": {},
          "execution_count": 40
        }
      ]
    },
    {
      "cell_type": "code",
      "source": [
        "(False) or (False)"
      ],
      "metadata": {
        "colab": {
          "base_uri": "https://localhost:8080/"
        },
        "id": "Gu5jCJ3wVQlo",
        "outputId": "1befeb02-1c50-43b4-ea68-c565821d959e"
      },
      "execution_count": 41,
      "outputs": [
        {
          "output_type": "execute_result",
          "data": {
            "text/plain": [
              "False"
            ]
          },
          "metadata": {},
          "execution_count": 41
        }
      ]
    },
    {
      "cell_type": "code",
      "source": [
        "(True) or (False)"
      ],
      "metadata": {
        "colab": {
          "base_uri": "https://localhost:8080/"
        },
        "id": "Pgy9_6DMVSxp",
        "outputId": "75080afe-edf0-449d-e286-4a25cc9d9bcb"
      },
      "execution_count": 42,
      "outputs": [
        {
          "output_type": "execute_result",
          "data": {
            "text/plain": [
              "True"
            ]
          },
          "metadata": {},
          "execution_count": 42
        }
      ]
    },
    {
      "cell_type": "markdown",
      "source": [
        "Bitwise Operators\n",
        "\n",
        "Bitwise operators are used to perform operations on binary representations of integers. The following are the bitwise operators in\n",
        "Python\n",
        "\n",
        "NOTE: (cannot use with other number types)\n",
        "\n",
        "& (bitwise and)\n",
        "\n",
        "(|) (bitwise or)\n",
        "\n",
        "^ (bitwise xor)\n",
        "\n",
        "(*) (bitwise inversion)\n",
        "\n",
        "< (left shift)\n",
        "\n",
        "(>>) (right shift)\n"
      ],
      "metadata": {
        "id": "rdBE9aHZQZzA"
      }
    },
    {
      "cell_type": "markdown",
      "source": [
        "[Good Documenttation ](https://realpython.com/python-bitwise-operators/#integers-in-python)"
      ],
      "metadata": {
        "id": "PdQteLT6QZwP"
      }
    },
    {
      "cell_type": "markdown",
      "source": [
        "#Simplification"
      ],
      "metadata": {
        "id": "otCdQcILQZtg"
      }
    },
    {
      "cell_type": "markdown",
      "source": [],
      "metadata": {
        "id": "zp5eKs0oQZq3"
      }
    },
    {
      "cell_type": "markdown",
      "source": [],
      "metadata": {
        "id": "p18EO_wiQZoA"
      }
    },
    {
      "cell_type": "code",
      "source": [
        "a =50\n",
        "print(a)"
      ],
      "metadata": {
        "colab": {
          "base_uri": "https://localhost:8080/"
        },
        "id": "upXljj5_QZVo",
        "outputId": "9705b2f6-10c6-43bf-e770-ad909662ba60"
      },
      "execution_count": 43,
      "outputs": [
        {
          "output_type": "stream",
          "name": "stdout",
          "text": [
            "50\n"
          ]
        }
      ]
    },
    {
      "cell_type": "code",
      "source": [
        "a - a + 10\n",
        "print(a)"
      ],
      "metadata": {
        "colab": {
          "base_uri": "https://localhost:8080/"
        },
        "id": "X1Alvp20QZSo",
        "outputId": "71ee6f5f-8e52-435e-ffdd-3965d3307639"
      },
      "execution_count": 44,
      "outputs": [
        {
          "output_type": "stream",
          "name": "stdout",
          "text": [
            "50\n"
          ]
        }
      ]
    },
    {
      "cell_type": "code",
      "source": [
        "a+ 10\n",
        "print(a)"
      ],
      "metadata": {
        "colab": {
          "base_uri": "https://localhost:8080/"
        },
        "id": "5WnKFSmVQZQH",
        "outputId": "d2ee6b33-03dc-4426-b840-8f1b80b7be46"
      },
      "execution_count": 45,
      "outputs": [
        {
          "output_type": "stream",
          "name": "stdout",
          "text": [
            "50\n"
          ]
        }
      ]
    },
    {
      "cell_type": "code",
      "source": [
        "a == 10\n",
        "print(a)"
      ],
      "metadata": {
        "colab": {
          "base_uri": "https://localhost:8080/"
        },
        "id": "cwb8aoPTQZNo",
        "outputId": "e57887de-17b5-4a4e-f065-486bbf35aadd"
      },
      "execution_count": 47,
      "outputs": [
        {
          "output_type": "stream",
          "name": "stdout",
          "text": [
            "50\n"
          ]
        }
      ]
    },
    {
      "cell_type": "markdown",
      "source": [
        "#Identity Operators\n",
        "Identity operators are used to compare the memory addresses of objects to determine if they refer to the same object in memory.\n",
        "The following are the identity operators in Python:\n",
        "\n",
        "\n",
        "\n",
        "```\n",
        "is (object identity)\n",
        "\n",
        "is not (negated object identity)\n",
        "```\n",
        "\n"
      ],
      "metadata": {
        "id": "0E4D8J3bWb0Q"
      }
    },
    {
      "cell_type": "code",
      "source": [
        "a = 5000\n",
        "b = 5000\n",
        "\n",
        "a==b , id(a) == id(b)"
      ],
      "metadata": {
        "colab": {
          "base_uri": "https://localhost:8080/"
        },
        "id": "7Dfn5o_zQZLA",
        "outputId": "c0b5d3da-7b35-46fe-d1dc-93f0da542a5f"
      },
      "execution_count": 48,
      "outputs": [
        {
          "output_type": "execute_result",
          "data": {
            "text/plain": [
              "(True, False)"
            ]
          },
          "metadata": {},
          "execution_count": 48
        }
      ]
    },
    {
      "cell_type": "code",
      "source": [
        "a is b"
      ],
      "metadata": {
        "colab": {
          "base_uri": "https://localhost:8080/"
        },
        "id": "918KHe81QZIn",
        "outputId": "28647954-d2b5-4efb-f397-e7bd384973cf"
      },
      "execution_count": 49,
      "outputs": [
        {
          "output_type": "execute_result",
          "data": {
            "text/plain": [
              "False"
            ]
          },
          "metadata": {},
          "execution_count": 49
        }
      ]
    },
    {
      "cell_type": "code",
      "source": [
        "a is not b"
      ],
      "metadata": {
        "colab": {
          "base_uri": "https://localhost:8080/"
        },
        "id": "odtna0ccQZF4",
        "outputId": "1506dc37-6e12-40a7-b059-d0099294be7f"
      },
      "execution_count": 50,
      "outputs": [
        {
          "output_type": "execute_result",
          "data": {
            "text/plain": [
              "True"
            ]
          },
          "metadata": {},
          "execution_count": 50
        }
      ]
    },
    {
      "cell_type": "code",
      "source": [
        "True is True"
      ],
      "metadata": {
        "colab": {
          "base_uri": "https://localhost:8080/"
        },
        "id": "xOqMoJeYW4TY",
        "outputId": "fad06ac2-ea4c-4084-873d-f4ea7b8387fa"
      },
      "execution_count": 51,
      "outputs": [
        {
          "output_type": "execute_result",
          "data": {
            "text/plain": [
              "True"
            ]
          },
          "metadata": {},
          "execution_count": 51
        }
      ]
    },
    {
      "cell_type": "code",
      "source": [
        "x = True\n",
        "\n",
        "x is None, x is True"
      ],
      "metadata": {
        "colab": {
          "base_uri": "https://localhost:8080/"
        },
        "id": "yxBZnf9cW4Qw",
        "outputId": "355ed11b-3d1e-4ad5-b968-57b8b9cbd3da"
      },
      "execution_count": 52,
      "outputs": [
        {
          "output_type": "execute_result",
          "data": {
            "text/plain": [
              "(False, True)"
            ]
          },
          "metadata": {},
          "execution_count": 52
        }
      ]
    },
    {
      "cell_type": "markdown",
      "source": [
        "# Operator precedence\n",
        "\n",
        "1. () Parentheses\n",
        "2. ** Exponentiation\n",
        "3. ~ +- Bitwise NOT, Unary Plus, Unary Minus\n",
        "4. */ % // Multiplication, Division, Modulo, Floor Division\n",
        "5. + - Addition, Subtraction\n",
        "6. (>> <<) Right Shift, Left Shift\n",
        "7. & Bitwise AND\n",
        "8. ^ Bitwise XOR\n",
        "9. | Bitwise OR\n",
        "10. in, not in, is, is not, <, <= , >, >=, != , == Comparisons, Identity, Membership\n",
        "11. not Logical NOT\n",
        "12. and Logical AND\n",
        "13. or Logical OR\n",
        "\n",
        "\n"
      ],
      "metadata": {
        "id": "_de7lxIJPU1g"
      }
    },
    {
      "cell_type": "code",
      "source": [
        "10 +12 *3 % 34/ 8"
      ],
      "metadata": {
        "colab": {
          "base_uri": "https://localhost:8080/"
        },
        "id": "R3eri1g5OVoU",
        "outputId": "d462cf7f-1455-4840-e873-2c09e0421b38"
      },
      "execution_count": 8,
      "outputs": [
        {
          "output_type": "execute_result",
          "data": {
            "text/plain": [
              "10.25"
            ]
          },
          "metadata": {},
          "execution_count": 8
        }
      ]
    },
    {
      "cell_type": "code",
      "source": [
        "3 ** 2 ** 4"
      ],
      "metadata": {
        "colab": {
          "base_uri": "https://localhost:8080/"
        },
        "id": "svYr6tk9Pvlz",
        "outputId": "83ef1e66-6dca-43bd-8037-4cdaf400e6bb"
      },
      "execution_count": 6,
      "outputs": [
        {
          "output_type": "execute_result",
          "data": {
            "text/plain": [
              "43046721"
            ]
          },
          "metadata": {},
          "execution_count": 6
        }
      ]
    },
    {
      "cell_type": "code",
      "source": [
        "24 ** 2 // 4 % 25 / 19 * 8"
      ],
      "metadata": {
        "colab": {
          "base_uri": "https://localhost:8080/"
        },
        "id": "CcJ3HppeP1OP",
        "outputId": "6cdc7b79-306f-44b0-c5b2-8d99d91d9803"
      },
      "execution_count": 7,
      "outputs": [
        {
          "output_type": "execute_result",
          "data": {
            "text/plain": [
              "8.0"
            ]
          },
          "metadata": {},
          "execution_count": 7
        }
      ]
    },
    {
      "cell_type": "code",
      "source": [],
      "metadata": {
        "id": "42IldFfaP3CP"
      },
      "execution_count": null,
      "outputs": []
    }
  ]
}